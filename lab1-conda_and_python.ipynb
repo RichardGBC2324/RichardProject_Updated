{
 "cells": [
  {
   "cell_type": "markdown",
   "id": "5d663c86",
   "metadata": {},
   "source": [
    "# Machine Learning - Lab 1\n",
    "This lab provides you with basic essentials of:\n",
    "1. Setting up your development environment (virtual environment)\n",
    "2. Python and Libraries\n"
   ]
  },
  {
   "cell_type": "markdown",
   "id": "7715ced7",
   "metadata": {},
   "source": [
    "\n",
    "# Introduction to Conda\n",
    "\n",
    "## What is Conda?\n",
    "Conda is an open-source package management system and environment management system. It simplifies the installation and management of software packages and their dependencies for Python projects.\n",
    "\n",
    "## Why use Conda?\n",
    "Conda allows you to create isolated environments for different projects, ensuring that each project has its own dependencies and packages without affecting others.\n",
    "\n",
    "## Task\n",
    "1. Install Conda by following the instructions on the official website: [Conda Installation Guide](https://docs.conda.io/projects/conda/en/latest/user-guide/install/index.html).\n",
    "2. Verify the installation by running `conda --version` in your terminal.\n",
    "\n",
    "## Assessment Question\n",
    "- Why is it beneficial to use Conda for Python environment management, especially in machine learning and data science projects?\n"
   ]
  },
  {
   "cell_type": "code",
   "execution_count": null,
   "id": "9c2f4bb7",
   "metadata": {},
   "outputs": [],
   "source": [
    "\n",
    "# Write your answer here\n"
   ]
  },
  {
   "cell_type": "markdown",
   "id": "56b6940f",
   "metadata": {},
   "source": [
    "\n",
    "# Setting up a Python Environment with Conda\n",
    "\n",
    "## Creating and Managing Environments\n",
    "Conda allows you to create separate environments for different projects, each with its own set of packages.\n",
    "\n",
    "## Task\n",
    "1. Create a new Conda environment named 'ml_lab1' with Python 3.8: `conda create --name ml_lab1 python=3.8`\n",
    "2. Activate the environment: `conda activate ml_lab1`\n",
    "3. Install NumPy, Pandas, Matplotlib, and SciPy in the environment.\n",
    "\n",
    "## Assessment Question\n",
    "- Describe the steps to create a new environment in Conda and install a specific version of Python and a few packages.\n"
   ]
  },
  {
   "cell_type": "code",
   "execution_count": null,
   "id": "26a50fae",
   "metadata": {},
   "outputs": [],
   "source": [
    "\n",
    "# Write your answer here\n",
    "# the first step is to install conda to the computer (Miniconda in this example)\n",
    "# the open up conda and type in conda create --name ml_lab1 python={version} to create the new environment (3.11 in this example)\n",
    "# activate it by conda activate ml_lab1\n",
    "# then type in pip install {package} for each of the package"
   ]
  },
  {
   "cell_type": "markdown",
   "id": "81701a45",
   "metadata": {},
   "source": [
    "\n",
    "# Introduction to Python Basics\n",
    "\n",
    "Python is a popular programming language for data analysis and machine learning. In this section, we'll cover basic Python syntax and data types.\n",
    "\n",
    "## Task\n",
    "Write a Python script that takes a list of numbers and returns a list containing only the even numbers.\n",
    "\n",
    "## Assessment Question\n",
    "- Explain the difference between a list and a tuple in Python.\n"
   ]
  },
  {
   "cell_type": "code",
   "execution_count": 2,
   "id": "cc158494",
   "metadata": {},
   "outputs": [
    {
     "name": "stdout",
     "output_type": "stream",
     "text": [
      "['B', 'C', 'D']\n"
     ]
    },
    {
     "ename": "TypeError",
     "evalue": "'tuple' object does not support item assignment",
     "output_type": "error",
     "traceback": [
      "\u001b[1;31m---------------------------------------------------------------------------\u001b[0m",
      "\u001b[1;31mTypeError\u001b[0m                                 Traceback (most recent call last)",
      "Cell \u001b[1;32mIn[2], line 8\u001b[0m\n\u001b[0;32m      5\u001b[0m \u001b[38;5;28mprint\u001b[39m(\u001b[38;5;28mlist\u001b[39m)\n\u001b[0;32m      7\u001b[0m \u001b[38;5;28mtuple\u001b[39m\u001b[38;5;241m=\u001b[39m\u001b[38;5;28mtuple\u001b[39m([\u001b[38;5;124m\"\u001b[39m\u001b[38;5;124mA\u001b[39m\u001b[38;5;124m\"\u001b[39m,\u001b[38;5;124m\"\u001b[39m\u001b[38;5;124mC\u001b[39m\u001b[38;5;124m\"\u001b[39m,\u001b[38;5;124m\"\u001b[39m\u001b[38;5;124mD\u001b[39m\u001b[38;5;124m\"\u001b[39m])\n\u001b[1;32m----> 8\u001b[0m \u001b[38;5;28mtuple\u001b[39m[\u001b[38;5;241m0\u001b[39m]\u001b[38;5;241m=\u001b[39m\u001b[38;5;124m\"\u001b[39m\u001b[38;5;124mB\u001b[39m\u001b[38;5;124m\"\u001b[39m\n\u001b[0;32m      9\u001b[0m \u001b[38;5;28mprint\u001b[39m(\u001b[38;5;28mtuple\u001b[39m)\n",
      "\u001b[1;31mTypeError\u001b[0m: 'tuple' object does not support item assignment"
     ]
    }
   ],
   "source": [
    "\n",
    "# Write your code and answer here\n",
    "\n",
    "list=[\"A\",\"C\",\"D\"]\n",
    "list[0]=\"B\"\n",
    "print(list)\n",
    "\n",
    "tuple=tuple([\"A\",\"C\",\"D\"])\n",
    "tuple[0]=\"B\"\n",
    "print(tuple)\n",
    "\n",
    "# when attempting to change an item in a list, the assignment will replace the item with the defined value at the index\n",
    "# indicated, however the same change cannot be made in the tuple bacause tuple is immutable, meaning it won't support the \n",
    "# function add, remove, or modify the items used for the list"
   ]
  },
  {
   "cell_type": "markdown",
   "id": "c64a4156",
   "metadata": {},
   "source": [
    "\n",
    "# Working with NumPy\n",
    "\n",
    "NumPy is a fundamental package for scientific computing with Python. It provides support for large, multi-dimensional arrays and matrices, along with a large collection of high-level mathematical functions to operate on these arrays.\n",
    "\n",
    "## Task\n",
    "Create a NumPy array and perform basic array operations (addition, multiplication).\n",
    "\n",
    "## Assessment Question\n",
    "- What are the advantages of using NumPy arrays over standard Python lists for numerical data?\n"
   ]
  },
  {
   "cell_type": "code",
   "execution_count": 19,
   "id": "d2a5aa23",
   "metadata": {},
   "outputs": [
    {
     "name": "stdout",
     "output_type": "stream",
     "text": [
      "[5, 7, 8]\n",
      "[2, 16, 25]\n",
      "[5 7 8]\n",
      "[ 2 16 25]\n"
     ]
    }
   ],
   "source": [
    "\n",
    "# Write your code and answer here\n",
    "import numpy as np\n",
    "num_list = [2,4,5]\n",
    "num_add = [3,3,3]\n",
    "num_multiply = [1,4,5]\n",
    "addition = [a+b for a,b in zip(num_list,num_add)]\n",
    "multiplication = [a*b for a,b in zip(num_list,num_multiply)]\n",
    "print(addition)\n",
    "print(multiplication)\n",
    "\n",
    "num_np = np.array([2,4,5])\n",
    "print(num_np + 3)\n",
    "print(num_np * [1,4,5])\n",
    "\n",
    "# the advantage of numpy array is apparent when doing element-wise mathematical operations, where the code is simplied to\n",
    "# adding by an integer or a list of number with the same length to the original array, thus reduce runtime as no looping\n",
    "# is required, which are important when running complicated calculation. Numpy list is also memory-efficient due to the fact\n",
    "# that it allows only homogeneous data type stored within the list, also it supports more advanced index slicing and multi-\n",
    "# dimensional array, which makes it a ideal tools for scientific computing and machine learing"
   ]
  },
  {
   "cell_type": "markdown",
   "id": "8a3cb3bb",
   "metadata": {},
   "source": [
    "\n",
    "# Data Manipulation with Pandas\n",
    "\n",
    "Pandas is an open-source data analysis and manipulation tool, built on top of the Python programming language.\n",
    "\n",
    "## Task\n",
    "Read a CSV file into a DataFrame, display the first few rows, and filter the data based on a condition.\n",
    "\n",
    "## Assessment Question\n",
    "- Describe how a Pandas DataFrame is different from a NumPy array.\n"
   ]
  },
  {
   "cell_type": "code",
   "execution_count": 3,
   "id": "0b3deb39",
   "metadata": {},
   "outputs": [
    {
     "name": "stdout",
     "output_type": "stream",
     "text": [
      "    Index      Customer Id First Name  Last Name  \\\n",
      "0       1  DD37Cf93aecA6Dc     Sheryl     Baxter   \n",
      "1       2  1Ef7b82A4CAAD10    Preston     Lozano   \n",
      "2       3  6F94879bDAfE5a6        Roy      Berry   \n",
      "3       4  5Cef8BFA16c5e3c      Linda      Olsen   \n",
      "4       5  053d585Ab6b3159     Joanna     Bender   \n",
      "5       6  2d08FB17EE273F4      Aimee      Downs   \n",
      "6       7  EA4d384DfDbBf77     Darren       Peck   \n",
      "7       8  0e04AFde9f225dE      Brett     Mullen   \n",
      "8       9  C2dE4dEEc489ae0     Sheryl     Meyers   \n",
      "9      10  8C2811a503C7c5a   Michelle  Gallagher   \n",
      "10     11  216E205d6eBb815       Carl  Schroeder   \n",
      "11     12  CEDec94deE6d69B      Jenna     Dodson   \n",
      "12     13  e35426EbDEceaFF     Tracey       Mata   \n",
      "13     14  A08A8aF8BE9FaD4   Kristine        Cox   \n",
      "14     15  6fEaA1b7cab7B6C      Faith       Lutz   \n",
      "\n",
      "                            Company               City  \\\n",
      "0                   Rasmussen Group       East Leonard   \n",
      "1                       Vega-Gentry  East Jimmychester   \n",
      "2                     Murillo-Perry      Isabelborough   \n",
      "3   Dominguez, Mcmillan and Donovan         Bensonview   \n",
      "4          Martin, Lang and Andrade     West Priscilla   \n",
      "5                      Steele Group      Chavezborough   \n",
      "6      Lester, Woodard and Mitchell           Lake Ana   \n",
      "7      Sanford, Davenport and Giles            Kimport   \n",
      "8                    Browning-Simon       Robersonstad   \n",
      "9                      Beck-Hendrix         Elaineberg   \n",
      "10       Oconnell, Meza and Everett       Shannonville   \n",
      "11        Hoffman, Reed and Mcclain        East Andrea   \n",
      "12                   Graham-Francis  South Joannamouth   \n",
      "13                   Carpenter-Cook           Jodyberg   \n",
      "14                   Carter-Hancock          Burchbury   \n",
      "\n",
      "                       Country                 Phone 1                Phone 2  \\\n",
      "0                        Chile            229.077.5154       397.884.0519x718   \n",
      "1                     Djibouti              5153435776       686-620-1820x944   \n",
      "2          Antigua and Barbuda         +1-539-402-0259    (496)978-3969x58947   \n",
      "3           Dominican Republic  001-808-617-6467x12895        +1-813-324-8756   \n",
      "4   Slovakia (Slovak Republic)  001-234-203-0635x76146  001-199-446-3860x3486   \n",
      "5       Bosnia and Herzegovina     (283)437-3886x88321           999-728-1637   \n",
      "6             Pitcairn Islands      (496)452-6181x3291   +1-247-266-0963x4995   \n",
      "7                     Bulgaria    001-583-352-7197x297       001-333-145-0369   \n",
      "8                       Cyprus       854-138-4911x5772    +1-448-910-2276x729   \n",
      "9                  Timor-Leste        739.218.2516x459   001-054-401-0347x617   \n",
      "10                    Guernsey        637-854-0256x825       114.336.0784x788   \n",
      "11                     Vietnam           (041)737-3846  +1-556-888-3485x42608   \n",
      "12                        Togo        001-949-844-8787          (855)713-8773   \n",
      "13                   Sri Lanka      786-284-3358x62152   +1-315-627-1796x8074   \n",
      "14                   Singapore      (781)861-7180x8306           207-185-3665   \n",
      "\n",
      "                                Email Subscription Date  \\\n",
      "0            zunigavanessa@smith.info        2020-08-24   \n",
      "1                     vmata@colon.com        2021-04-23   \n",
      "2                 beckycarr@hogan.com        2020-03-25   \n",
      "3         stanleyblackwell@benson.org        2020-06-02   \n",
      "4             colinalvarado@miles.net        2021-04-17   \n",
      "5                 louis27@gilbert.com        2020-02-25   \n",
      "6                 tgates@cantrell.com        2021-08-24   \n",
      "7                     asnow@colon.com        2021-04-12   \n",
      "8             mariokhan@ryan-pope.org        2020-01-13   \n",
      "9                   mdyer@escobar.net        2021-11-08   \n",
      "10                 kirksalas@webb.com        2021-10-20   \n",
      "11                 mark42@robbins.com        2020-11-29   \n",
      "12                   alex56@walls.org        2021-12-02   \n",
      "13           holdenmiranda@clarke.com        2021-02-08   \n",
      "14  cassieparrish@blevins-chapman.net        2022-01-26   \n",
      "\n",
      "                        Website  \n",
      "0    http://www.stephenson.com/  \n",
      "1         http://www.hobbs.com/  \n",
      "2      http://www.lawrence.com/  \n",
      "3    http://www.good-lyons.com/  \n",
      "4   https://goodwin-ingram.com/  \n",
      "5        http://www.berger.net/  \n",
      "6           https://www.le.com/  \n",
      "7   https://hammond-ramsey.com/  \n",
      "8      https://www.bullock.net/  \n",
      "9            https://arias.com/  \n",
      "10  https://simmons-hurley.com/  \n",
      "11      http://www.douglas.net/  \n",
      "12         http://www.beck.com/  \n",
      "13      https://www.brandt.com/  \n",
      "14        http://stevenson.org/  \n",
      "    Index      Customer Id First Name Last Name                  Company  \\\n",
      "50     51  Aa20BDe68eAb0e9     Gerald   Hawkins  Phelps, Forbes and Koch   \n",
      "69     70  CC68FD1D3Bbbf22      Riley      Good                 Wade PLC   \n",
      "\n",
      "              City Country                Phone 1        Phone 2  \\\n",
      "50  New Alberttown  Canada  +1-323-239-1456x96168  (092)508-0269   \n",
      "69      Erikaville  Canada             6977745822   855-436-7641   \n",
      "\n",
      "                       Email Subscription Date                  Website  \n",
      "50  uwarner@steele-arias.com        2021-03-19  https://valenzuela.com/  \n",
      "69       alex06@galloway.com        2020-02-03       http://conway.org/  \n"
     ]
    }
   ],
   "source": [
    "\n",
    "# Write your code and answer here\n",
    "import pandas as pd\n",
    "customers = pd.read_csv(\"customers-100.csv\")\n",
    "print(customers.head(15))\n",
    "\n",
    "#filter the data by customers from Canada\n",
    "customers_CA = customers.loc[customers[\"Country\"]==\"Canada\"]\n",
    "print(customers_CA)\n",
    "\n",
    "# Unlike Numpy array which can only contains one data type inside, Pandas DataFrame can store both numbers and string characters\n",
    "# together inside the lists, the column names and row labels can also be used for indexing using loc for faster runtime\n",
    "# Numpy is mostly used in mathematical calculation while Pandas DataFrame can perform more complex operations for the analysis\n",
    "# Pandas DataFrame is a tabular data structure that can be modified by size and allows adding/removing rows and columns, which\n",
    "# is beneficial when handling missing data and perform data manipulation"
   ]
  },
  {
   "cell_type": "markdown",
   "id": "e6e65672",
   "metadata": {},
   "source": [
    "\n",
    "# Data Visualization with Matplotlib\n",
    "\n",
    "Matplotlib is a comprehensive library for creating static, animated, and interactive visualizations in Python.\n",
    "\n",
    "## Task\n",
    "Create a basic plot (line plot or bar chart) using data from a Pandas DataFrame.\n",
    "\n",
    "## Assessment Question\n",
    "- Why is data visualization important in data analysis?\n"
   ]
  },
  {
   "cell_type": "code",
   "execution_count": 24,
   "id": "23c11981",
   "metadata": {},
   "outputs": [
    {
     "data": {
      "image/png": "[encoded data removed]",
      "text/plain": [
       "<Figure size 640x480 with 1 Axes>"
      ]
     },
     "metadata": {},
     "output_type": "display_data"
    }
   ],
   "source": [
    "\n",
    "# Write your code and answer here\n",
    "import pandas as pd\n",
    "import matplotlib.pyplot as plt\n",
    "monthly_price = {'Month':['July','August','September','October','Novemeber','December'],\n",
    "                'Price':[144,150,155,146,152,144]}\n",
    "df=pd.DataFrame(monthly_price,columns=['Month','Price'])\n",
    "df\n",
    "x=df[\"Month\"]\n",
    "y=df[\"Price\"]\n",
    "plt.plot(x,y)\n",
    "plt.show()\n",
    "\n",
    "# data visualization can provide a simplified description of data with charts that help to understand complex information, gives\n",
    "# analysts an easier method to explore the data by finding hidden trends and patterns, detect any anormalities, making comparison\n",
    "# against metrics, improving the ability to tell the story to the audience, and enhance decision making process, in this example,\n",
    "# the change in price of sneakers can be easily interpreted on the monthly basis, showing up and down pattern throughout the\n",
    "# period from July to December."
   ]
  },
  {
   "cell_type": "markdown",
   "id": "fb0497c6",
   "metadata": {},
   "source": [
    "\n",
    "# Basic File Operations in Python\n",
    "\n",
    "File operations are fundamental for data processing. In this section, we'll cover how to read from and write to files in Python.\n",
    "\n",
    "## Task\n",
    "Write a Python script to read a text file and count the frequency of each word in the file.\n",
    "\n",
    "## Assessment Question\n",
    "- Discuss the different modes of opening a file in Python.\n"
   ]
  },
  {
   "cell_type": "code",
   "execution_count": 17,
   "id": "9c87e75d",
   "metadata": {},
   "outputs": [
    {
     "name": "stdout",
     "output_type": "stream",
     "text": [
      "Ignore this message, professor\n",
      "Ignore this message, professor No?\n",
      "Ignore\n",
      "Occurrences of the word Ignore : 1\n"
     ]
    }
   ],
   "source": [
    "\n",
    "# Write your code and answer here\n",
    "\n",
    "# create a demo text file\n",
    "text = open(\"demo.txt\",\"w\")\n",
    "text.write(\"Ignore this message, professor\")\n",
    "text.close()\n",
    "\n",
    "# read the file created\n",
    "read=open(\"demo.txt\",\"r\")\n",
    "print(read.read())\n",
    "read.close()\n",
    "\n",
    "app = open(\"demo.txt\",\"a\")\n",
    "app.write(\" No?\")\n",
    "app.close()\n",
    "\n",
    "check = open(\"demo.txt\",\"r\")\n",
    "print(check.read())\n",
    "check.close()\n",
    "\n",
    "# count the occurrance of word in the text file\n",
    "word = input()\n",
    "count = 0\n",
    "with open(\"demo.txt\", 'r') as f: \n",
    "    for line in f: \n",
    "        words = line.split() \n",
    "        for i in words: \n",
    "            if(i==word): \n",
    "                count=count+1\n",
    "print(\"Occurrences of the word\", word, \":\", count)\n",
    "\n",
    "# the text file can be opened with open(file_name,mode) function, it has four ways of openning the file:\n",
    "#     \"r\" is the default for open in reading mode\n",
    "#     \"w\" is to open to overwrite the content in the text file\n",
    "#     \"a\" is to open and append a message after the last line of the file\n",
    "#     \"x\" is to create a new file and returns error if the file name specified exists"
   ]
  },
  {
   "cell_type": "markdown",
   "id": "f0324bd0",
   "metadata": {},
   "source": [
    "\n",
    "# Introduction to SciPy\n",
    "\n",
    "SciPy is a Python-based ecosystem of open-source software for mathematics, science, and engineering.\n",
    "\n",
    "## Task\n",
    "Demonstrate a simple mathematical operation using SciPy, like solving a linear equation.\n",
    "\n",
    "## Assessment Question\n",
    "- What is the role of SciPy in scientific computing with Python?\n"
   ]
  },
  {
   "cell_type": "code",
   "execution_count": 3,
   "id": "8dcbaa56",
   "metadata": {},
   "outputs": [
    {
     "name": "stdout",
     "output_type": "stream",
     "text": [
      "The square root of 64 :8.0\n",
      "e^3 = 20.085536923187668\n",
      "solution of (x,y,z):  [-0.63793103  2.4137931   2.43103448]\n"
     ]
    },
    {
     "name": "stderr",
     "output_type": "stream",
     "text": [
      "C:\\Users\\richa\\AppData\\Local\\Temp\\ipykernel_26632\\2306343284.py:8: DeprecationWarning: scipy.sqrt is deprecated and will be removed in SciPy 2.0.0, use numpy.lib.scimath.sqrt instead\n",
      "  sqrt_num = sqrt(num)\n",
      "C:\\Users\\richa\\AppData\\Local\\Temp\\ipykernel_26632\\2306343284.py:13: DeprecationWarning: scipy.exp is deprecated and will be removed in SciPy 2.0.0, use numpy.exp instead\n",
      "  exp_power = exp(3)\n"
     ]
    }
   ],
   "source": [
    "\n",
    "# Write your code and answer here\n",
    "import numpy as np\n",
    "from scipy import sqrt, exp\n",
    "from scipy.linalg import solve\n",
    "\n",
    "# Find the square root of 64\n",
    "num = 64\n",
    "sqrt_num = sqrt(num)\n",
    "print(f\"The square root of {num} :{sqrt_num}\")\n",
    "\n",
    "# Find exponential of 3\n",
    "power = 3\n",
    "exp_power = exp(3)\n",
    "print(f\"e^{power} = {exp_power}\")\n",
    "\n",
    "# solve linear equation\n",
    "A = np.array([[3,6,1],[5,-2,7],[4,-8,2]])\n",
    "b= np.array([15,9,-17])\n",
    "solution = solve(A,b)\n",
    "print(\"solution of (x,y,z): \", solution)\n",
    "\n",
    "# The Scipy package provides tools that directly calculate the result without having to manually type in the formula, \n",
    "# allowing to solve complex mathematical problems with high efficiency and simplicity, in this example, sqrt function imported\n",
    "# from scipy can compute square root of a number without tedious coding, scipy can also solves linear equation at ease, using\n",
    "# solve from scipy.linalg package, provides the values for x, y, and z in the above linear equation"
   ]
  },
  {
   "cell_type": "markdown",
   "id": "9052c5f9",
   "metadata": {},
   "source": [
    "## Submission\n",
    "Submit a link to your completed Jupyter Notebook file hosted on your private GitHub repository through the submission link in Blackboard."
   ]
  }
 ],
 "metadata": {
  "kernelspec": {
   "display_name": "Python 3 (ipykernel)",
   "language": "python",
   "name": "python3"
  },
  "language_info": {
   "codemirror_mode": {
    "name": "ipython",
    "version": 3
   },
   "file_extension": ".py",
   "mimetype": "text/x-python",
   "name": "python",
   "nbconvert_exporter": "python",
   "pygments_lexer": "ipython3",
   "version": "3.11.5"
  }
 },
 "nbformat": 4,
 "nbformat_minor": 5
}
