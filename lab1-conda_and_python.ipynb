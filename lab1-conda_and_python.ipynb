{
 "cells": [
  {
   "cell_type": "markdown",
   "id": "5d663c86",
   "metadata": {},
   "source": [
    "# Machine Learning - Lab 1\n",
    "This lab provides you with basic essentials of:\n",
    "1. Setting up your development environment (virtual environment)\n",
    "2. Python and Libraries\n"
   ]
  },
  {
   "cell_type": "markdown",
   "id": "7715ced7",
   "metadata": {},
   "source": [
    "\n",
    "# Introduction to Conda\n",
    "\n",
    "## What is Conda?\n",
    "Conda is an open-source package management system and environment management system. It simplifies the installation and management of software packages and their dependencies for Python projects.\n",
    "\n",
    "## Why use Conda?\n",
    "Conda allows you to create isolated environments for different projects, ensuring that each project has its own dependencies and packages without affecting others.\n",
    "\n",
    "## Task\n",
    "1. Install Conda by following the instructions on the official website: [Conda Installation Guide](https://docs.conda.io/projects/conda/en/latest/user-guide/install/index.html).\n",
    "2. Verify the installation by running `conda --version` in your terminal.\n",
    "\n",
    "## Assessment Question\n",
    "- Why is it beneficial to use Conda for Python environment management, especially in machine learning and data science projects?\n"
   ]
  },
  {
   "cell_type": "code",
   "execution_count": null,
   "id": "9c2f4bb7",
   "metadata": {},
   "outputs": [],
   "source": [
    "\n",
    "# Write your answer here\n"
   ]
  },
  {
   "cell_type": "markdown",
   "id": "56b6940f",
   "metadata": {},
   "source": [
    "\n",
    "# Setting up a Python Environment with Conda\n",
    "\n",
    "## Creating and Managing Environments\n",
    "Conda allows you to create separate environments for different projects, each with its own set of packages.\n",
    "\n",
    "## Task\n",
    "1. Create a new Conda environment named 'ml_lab1' with Python 3.8: `conda create --name ml_lab1 python=3.8`\n",
    "2. Activate the environment: `conda activate ml_lab1`\n",
    "3. Install NumPy, Pandas, Matplotlib, and SciPy in the environment.\n",
    "\n",
    "## Assessment Question\n",
    "- Describe the steps to create a new environment in Conda and install a specific version of Python and a few packages.\n"
   ]
  },
  {
   "cell_type": "code",
   "execution_count": null,
   "id": "26a50fae",
   "metadata": {},
   "outputs": [],
   "source": [
    "\n",
    "# Write your answer here\n"
   ]
  },
  {
   "cell_type": "markdown",
   "id": "81701a45",
   "metadata": {},
   "source": [
    "\n",
    "# Introduction to Python Basics\n",
    "\n",
    "Python is a popular programming language for data analysis and machine learning. In this section, we'll cover basic Python syntax and data types.\n",
    "\n",
    "## Task\n",
    "Write a Python script that takes a list of numbers and returns a list containing only the even numbers.\n",
    "\n",
    "## Assessment Question\n",
    "- Explain the difference between a list and a tuple in Python.\n"
   ]
  },
  {
   "cell_type": "code",
   "execution_count": null,
   "id": "cc158494",
   "metadata": {},
   "outputs": [],
   "source": [
    "\n",
    "# Write your code and answer here"
   ]
  },
  {
   "cell_type": "markdown",
   "id": "c64a4156",
   "metadata": {},
   "source": [
    "\n",
    "# Working with NumPy\n",
    "\n",
    "NumPy is a fundamental package for scientific computing with Python. It provides support for large, multi-dimensional arrays and matrices, along with a large collection of high-level mathematical functions to operate on these arrays.\n",
    "\n",
    "## Task\n",
    "Create a NumPy array and perform basic array operations (addition, multiplication).\n",
    "\n",
    "## Assessment Question\n",
    "- What are the advantages of using NumPy arrays over standard Python lists for numerical data?\n"
   ]
  },
  {
   "cell_type": "code",
   "execution_count": null,
   "id": "d2a5aa23",
   "metadata": {},
   "outputs": [],
   "source": [
    "\n",
    "# Write your code and answer here\n"
   ]
  },
  {
   "cell_type": "markdown",
   "id": "8a3cb3bb",
   "metadata": {},
   "source": [
    "\n",
    "# Data Manipulation with Pandas\n",
    "\n",
    "Pandas is an open-source data analysis and manipulation tool, built on top of the Python programming language.\n",
    "\n",
    "## Task\n",
    "Read a CSV file into a DataFrame, display the first few rows, and filter the data based on a condition.\n",
    "\n",
    "## Assessment Question\n",
    "- Describe how a Pandas DataFrame is different from a NumPy array.\n"
   ]
  },
  {
   "cell_type": "code",
   "execution_count": null,
   "id": "0b3deb39",
   "metadata": {},
   "outputs": [],
   "source": [
    "\n",
    "# Write your code and answer here\n"
   ]
  },
  {
   "cell_type": "markdown",
   "id": "e6e65672",
   "metadata": {},
   "source": [
    "\n",
    "# Data Visualization with Matplotlib\n",
    "\n",
    "Matplotlib is a comprehensive library for creating static, animated, and interactive visualizations in Python.\n",
    "\n",
    "## Task\n",
    "Create a basic plot (line plot or bar chart) using data from a Pandas DataFrame.\n",
    "\n",
    "## Assessment Question\n",
    "- Why is data visualization important in data analysis?\n"
   ]
  },
  {
   "cell_type": "code",
   "execution_count": null,
   "id": "23c11981",
   "metadata": {},
   "outputs": [],
   "source": [
    "\n",
    "# Write your code and answer here\n"
   ]
  },
  {
   "cell_type": "markdown",
   "id": "fb0497c6",
   "metadata": {},
   "source": [
    "\n",
    "# Basic File Operations in Python\n",
    "\n",
    "File operations are fundamental for data processing. In this section, we'll cover how to read from and write to files in Python.\n",
    "\n",
    "## Task\n",
    "Write a Python script to read a text file and count the frequency of each word in the file.\n",
    "\n",
    "## Assessment Question\n",
    "- Discuss the different modes of opening a file in Python.\n"
   ]
  },
  {
   "cell_type": "code",
   "execution_count": null,
   "id": "9c87e75d",
   "metadata": {},
   "outputs": [],
   "source": [
    "\n",
    "# Write your code and answer here\n"
   ]
  },
  {
   "cell_type": "markdown",
   "id": "f0324bd0",
   "metadata": {},
   "source": [
    "\n",
    "# Introduction to SciPy\n",
    "\n",
    "SciPy is a Python-based ecosystem of open-source software for mathematics, science, and engineering.\n",
    "\n",
    "## Task\n",
    "Demonstrate a simple mathematical operation using SciPy, like solving a linear equation.\n",
    "\n",
    "## Assessment Question\n",
    "- What is the role of SciPy in scientific computing with Python?\n"
   ]
  },
  {
   "cell_type": "code",
   "execution_count": null,
   "id": "8dcbaa56",
   "metadata": {},
   "outputs": [],
   "source": [
    "\n",
    "# Write your code and answer here\n"
   ]
  },
  {
   "cell_type": "markdown",
   "id": "9052c5f9",
   "metadata": {},
   "source": [
    "## Submission\n",
    "Submit a link to your completed Jupyter Notebook file hosted on your private GitHub repository through the submission link in Blackboard."
   ]
  }
 ],
 "metadata": {
  "language_info": {
   "name": "python"
  }
 },
 "nbformat": 4,
 "nbformat_minor": 5
}
