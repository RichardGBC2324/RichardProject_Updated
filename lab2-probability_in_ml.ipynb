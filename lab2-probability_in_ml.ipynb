{
 "cells": [
  {
   "cell_type": "markdown",
   "metadata": {},
   "source": [
    "# Lab 2 - Probability in Machine Learning\n",
    "\n",
    "Welcome to the Probability in Machine Learning Lab! In this lab, we will explore how probability theory plays a crucial role in machine learning. We will start with a simple coin flip example to grasp the basics and then move on to build a Bayesian email classifier. Let's dive in!\n",
    "\n",
    "## Setting Up the Environment\n",
    "\n",
    "First, let's import the necessary libraries.\n"
   ]
  },
  {
   "cell_type": "code",
   "execution_count": 24,
   "metadata": {},
   "outputs": [],
   "source": [
    "import pandas as pd\n",
    "import numpy as np"
   ]
  },
  {
   "cell_type": "markdown",
   "metadata": {},
   "source": [
    "## Part 1: Coin Flip Probability Example\n",
    "\n",
    "### Objective:\n",
    "To understand basic probability and Python coding through a coin flip example.\n",
    "\n",
    "### Simulating Coin Flips\n",
    "We will simulate flipping a coin 1000 times.\n"
   ]
  },
  {
   "cell_type": "code",
   "execution_count": 2,
   "metadata": {},
   "outputs": [],
   "source": [
    "# Simulating 1000 coin flips, 0 for 'tails' and 1 for 'heads'\n",
    "coin_flips = np.random.choice(['heads', 'tails'], size=1000)\n",
    "df_coin = pd.DataFrame({'flip_result': coin_flips})"
   ]
  },
  {
   "cell_type": "markdown",
   "metadata": {},
   "source": [
    "### Analyzing Flip Results\n",
    "Now, let's count how many heads and tails we got."
   ]
  },
  {
   "cell_type": "code",
   "execution_count": 4,
   "metadata": {},
   "outputs": [
    {
     "name": "stdout",
     "output_type": "stream",
     "text": [
      "flip_result\n",
      "tails    518\n",
      "heads    482\n",
      "Name: count, dtype: int64\n"
     ]
    }
   ],
   "source": [
    "flip_counts = df_coin['flip_result'].value_counts()\n",
    "print(flip_counts)"
   ]
  },
  {
   "cell_type": "markdown",
   "metadata": {},
   "source": [
    "### Calculating Probabilities\n",
    "Next, we will calculate the probability of getting heads or tails."
   ]
  },
  {
   "cell_type": "code",
   "execution_count": 5,
   "metadata": {},
   "outputs": [
    {
     "name": "stdout",
     "output_type": "stream",
     "text": [
      "Probability of Heads: 0.482\n",
      "Probability of Tails: 0.518\n"
     ]
    }
   ],
   "source": [
    "p_heads = flip_counts['heads'] / len(df_coin)\n",
    "p_tails = flip_counts['tails'] / len(df_coin)\n",
    "print(f\"Probability of Heads: {p_heads}\")\n",
    "print(f\"Probability of Tails: {p_tails}\")"
   ]
  },
  {
   "cell_type": "markdown",
   "metadata": {},
   "source": [
    "## Part 2: Bayesian Email Classifier\n",
    "\n",
    "### Objective:\n",
    "Now, you will build a Bayesian email classifier to differentiate between 'spam' and 'ham' (not spam) emails.\n",
    "\n",
    "### Task 1: Exploring the Dataset\n",
    "First, load and explore the dataset. You can either find and use a dataset or use the following code to simulate a sample dataset."
   ]
  },
  {
   "cell_type": "code",
   "execution_count": 56,
   "metadata": {},
   "outputs": [],
   "source": [
    "# The following code snippet creates a simulated email classification (spam and not spam) dataset with 1000 data points.\n",
    "\n",
    "import pandas as pd\n",
    "import numpy as np\n",
    "\n",
    "# Sample size\n",
    "n_samples = 1000\n",
    "\n",
    "# Simulating data\n",
    "np.random.seed(42)\n",
    "data = {\n",
    "    'email_length': np.random.normal(100, 20, n_samples).astype(int),\n",
    "    'contains_free': np.random.choice([0, 1], size=n_samples, p=[0.7, 0.3]),\n",
    "    'contains_winner': np.random.choice([0, 1], size=n_samples, p=[0.8, 0.2]),\n",
    "    'time_of_day': np.random.choice(['morning', 'afternoon', 'evening', 'night'], n_samples),\n",
    "    'label': np.random.choice(['spam', 'ham'], n_samples, p=[0.4, 0.6])\n",
    "}\n",
    "\n",
    "df = pd.DataFrame(data)\n",
    "\n",
    "# Saving the dataset\n",
    "df.to_csv('simulated_email_dataset.csv', index=False)\n"
   ]
  },
  {
   "cell_type": "code",
   "execution_count": 57,
   "metadata": {},
   "outputs": [
    {
     "data": {
      "text/html": [
       "<div>\n",
       "<style scoped>\n",
       "    .dataframe tbody tr th:only-of-type {\n",
       "        vertical-align: middle;\n",
       "    }\n",
       "\n",
       "    .dataframe tbody tr th {\n",
       "        vertical-align: top;\n",
       "    }\n",
       "\n",
       "    .dataframe thead th {\n",
       "        text-align: right;\n",
       "    }\n",
       "</style>\n",
       "<table border=\"1\" class=\"dataframe\">\n",
       "  <thead>\n",
       "    <tr style=\"text-align: right;\">\n",
       "      <th></th>\n",
       "      <th>email_length</th>\n",
       "      <th>contains_free</th>\n",
       "      <th>contains_winner</th>\n",
       "      <th>time_of_day</th>\n",
       "      <th>label</th>\n",
       "    </tr>\n",
       "  </thead>\n",
       "  <tbody>\n",
       "    <tr>\n",
       "      <th>0</th>\n",
       "      <td>109</td>\n",
       "      <td>0</td>\n",
       "      <td>0</td>\n",
       "      <td>morning</td>\n",
       "      <td>ham</td>\n",
       "    </tr>\n",
       "    <tr>\n",
       "      <th>1</th>\n",
       "      <td>97</td>\n",
       "      <td>0</td>\n",
       "      <td>0</td>\n",
       "      <td>morning</td>\n",
       "      <td>spam</td>\n",
       "    </tr>\n",
       "    <tr>\n",
       "      <th>2</th>\n",
       "      <td>112</td>\n",
       "      <td>0</td>\n",
       "      <td>0</td>\n",
       "      <td>morning</td>\n",
       "      <td>spam</td>\n",
       "    </tr>\n",
       "    <tr>\n",
       "      <th>3</th>\n",
       "      <td>130</td>\n",
       "      <td>1</td>\n",
       "      <td>0</td>\n",
       "      <td>afternoon</td>\n",
       "      <td>ham</td>\n",
       "    </tr>\n",
       "    <tr>\n",
       "      <th>4</th>\n",
       "      <td>95</td>\n",
       "      <td>0</td>\n",
       "      <td>1</td>\n",
       "      <td>afternoon</td>\n",
       "      <td>spam</td>\n",
       "    </tr>\n",
       "    <tr>\n",
       "      <th>5</th>\n",
       "      <td>95</td>\n",
       "      <td>1</td>\n",
       "      <td>0</td>\n",
       "      <td>morning</td>\n",
       "      <td>ham</td>\n",
       "    </tr>\n",
       "    <tr>\n",
       "      <th>6</th>\n",
       "      <td>131</td>\n",
       "      <td>0</td>\n",
       "      <td>0</td>\n",
       "      <td>morning</td>\n",
       "      <td>ham</td>\n",
       "    </tr>\n",
       "    <tr>\n",
       "      <th>7</th>\n",
       "      <td>115</td>\n",
       "      <td>0</td>\n",
       "      <td>0</td>\n",
       "      <td>afternoon</td>\n",
       "      <td>ham</td>\n",
       "    </tr>\n",
       "    <tr>\n",
       "      <th>8</th>\n",
       "      <td>90</td>\n",
       "      <td>1</td>\n",
       "      <td>1</td>\n",
       "      <td>evening</td>\n",
       "      <td>spam</td>\n",
       "    </tr>\n",
       "    <tr>\n",
       "      <th>9</th>\n",
       "      <td>110</td>\n",
       "      <td>1</td>\n",
       "      <td>0</td>\n",
       "      <td>night</td>\n",
       "      <td>ham</td>\n",
       "    </tr>\n",
       "    <tr>\n",
       "      <th>10</th>\n",
       "      <td>90</td>\n",
       "      <td>1</td>\n",
       "      <td>0</td>\n",
       "      <td>night</td>\n",
       "      <td>ham</td>\n",
       "    </tr>\n",
       "    <tr>\n",
       "      <th>11</th>\n",
       "      <td>90</td>\n",
       "      <td>1</td>\n",
       "      <td>0</td>\n",
       "      <td>morning</td>\n",
       "      <td>spam</td>\n",
       "    </tr>\n",
       "    <tr>\n",
       "      <th>12</th>\n",
       "      <td>104</td>\n",
       "      <td>0</td>\n",
       "      <td>0</td>\n",
       "      <td>evening</td>\n",
       "      <td>spam</td>\n",
       "    </tr>\n",
       "    <tr>\n",
       "      <th>13</th>\n",
       "      <td>61</td>\n",
       "      <td>1</td>\n",
       "      <td>0</td>\n",
       "      <td>afternoon</td>\n",
       "      <td>spam</td>\n",
       "    </tr>\n",
       "    <tr>\n",
       "      <th>14</th>\n",
       "      <td>65</td>\n",
       "      <td>0</td>\n",
       "      <td>0</td>\n",
       "      <td>morning</td>\n",
       "      <td>ham</td>\n",
       "    </tr>\n",
       "    <tr>\n",
       "      <th>15</th>\n",
       "      <td>88</td>\n",
       "      <td>1</td>\n",
       "      <td>1</td>\n",
       "      <td>evening</td>\n",
       "      <td>ham</td>\n",
       "    </tr>\n",
       "    <tr>\n",
       "      <th>16</th>\n",
       "      <td>79</td>\n",
       "      <td>0</td>\n",
       "      <td>0</td>\n",
       "      <td>evening</td>\n",
       "      <td>spam</td>\n",
       "    </tr>\n",
       "    <tr>\n",
       "      <th>17</th>\n",
       "      <td>106</td>\n",
       "      <td>1</td>\n",
       "      <td>0</td>\n",
       "      <td>evening</td>\n",
       "      <td>ham</td>\n",
       "    </tr>\n",
       "    <tr>\n",
       "      <th>18</th>\n",
       "      <td>81</td>\n",
       "      <td>0</td>\n",
       "      <td>1</td>\n",
       "      <td>afternoon</td>\n",
       "      <td>spam</td>\n",
       "    </tr>\n",
       "    <tr>\n",
       "      <th>19</th>\n",
       "      <td>71</td>\n",
       "      <td>0</td>\n",
       "      <td>0</td>\n",
       "      <td>afternoon</td>\n",
       "      <td>ham</td>\n",
       "    </tr>\n",
       "  </tbody>\n",
       "</table>\n",
       "</div>"
      ],
      "text/plain": [
       "    email_length  contains_free  contains_winner time_of_day label\n",
       "0            109              0                0     morning   ham\n",
       "1             97              0                0     morning  spam\n",
       "2            112              0                0     morning  spam\n",
       "3            130              1                0   afternoon   ham\n",
       "4             95              0                1   afternoon  spam\n",
       "5             95              1                0     morning   ham\n",
       "6            131              0                0     morning   ham\n",
       "7            115              0                0   afternoon   ham\n",
       "8             90              1                1     evening  spam\n",
       "9            110              1                0       night   ham\n",
       "10            90              1                0       night   ham\n",
       "11            90              1                0     morning  spam\n",
       "12           104              0                0     evening  spam\n",
       "13            61              1                0   afternoon  spam\n",
       "14            65              0                0     morning   ham\n",
       "15            88              1                1     evening   ham\n",
       "16            79              0                0     evening  spam\n",
       "17           106              1                0     evening   ham\n",
       "18            81              0                1   afternoon  spam\n",
       "19            71              0                0   afternoon   ham"
      ]
     },
     "execution_count": 57,
     "metadata": {},
     "output_type": "execute_result"
    }
   ],
   "source": [
    "# Load the dataset (Replace 'path_to_dataset' with the actual file path). You can uncomment the codes below. Notice what `df_emails.head()` is representing.\n",
    "df_emails = pd.read_csv('simulated_email_dataset.csv')\n",
    "df_emails.head(20)"
   ]
  },
  {
   "cell_type": "markdown",
   "metadata": {},
   "source": [
    "### Task 2: Data Preprocessing\n",
    "You need to preprocess the data for analysis. This involves normalizing and encoding the features."
   ]
  },
  {
   "cell_type": "code",
   "execution_count": 58,
   "metadata": {},
   "outputs": [
    {
     "name": "stdout",
     "output_type": "stream",
     "text": [
      "    email_length  contains_free  contains_winner  time_of_day  label\n",
      "0            109              0                0            1      0\n",
      "1             97              0                0            1      1\n",
      "2            112              0                0            1      1\n",
      "3            130              1                0            2      0\n",
      "4             95              0                1            2      1\n",
      "5             95              1                0            1      0\n",
      "6            131              0                0            1      0\n",
      "7            115              0                0            2      0\n",
      "8             90              1                1            3      1\n",
      "9            110              1                0            4      0\n",
      "10            90              1                0            4      0\n",
      "11            90              1                0            1      1\n",
      "12           104              0                0            3      1\n",
      "13            61              1                0            2      1\n",
      "14            65              0                0            1      0\n",
      "15            88              1                1            3      0\n",
      "16            79              0                0            3      1\n",
      "17           106              1                0            3      0\n",
      "18            81              0                1            2      1\n",
      "19            71              0                0            2      0\n"
     ]
    }
   ],
   "source": [
    "# Your code for Data Preprocessing goes here\n",
    "\n",
    "# Encoding the time_of_the_day column such that morning is 1, afternoon is 2, evening is 3, and night is 4\n",
    "df_emails['time_of_day'] = df_emails['time_of_day'].map({'morning': 1, 'afternoon': 2,'evening': 3,'night': 4})\n",
    "\n",
    "# Encoding label column such that ham (not spam) is 0 and spam is 1\n",
    "df_emails['label'] = df_emails['label'].map({'ham': 0, 'spam': 1})\n",
    "\n",
    "# print the result of first 5 rows\n",
    "print(df_emails.head(20))"
   ]
  },
  {
   "cell_type": "markdown",
   "metadata": {},
   "source": [
    "### Task 3: Probability Calculation\n",
    "Calculate the probability of spam and ham emails in the dataset."
   ]
  },
  {
   "cell_type": "code",
   "execution_count": 59,
   "metadata": {},
   "outputs": [
    {
     "name": "stdout",
     "output_type": "stream",
     "text": [
      "Probability of spam: 0.409, Probability of not spam: 0.591\n"
     ]
    }
   ],
   "source": [
    "# Your code for calculating the probability of spam and ham emails in the dataset goes here\n",
    "spam_count = df_emails[\"label\"].sum()\n",
    "not_spam_count = len(df_emails)-spam_count\n",
    "spam_prob = spam_count / len(df_emails)\n",
    "not_spam_prob = not_spam_count / len(df_emails)\n",
    "print(f\"Probability of spam: {spam_prob}, Probability of not spam: {not_spam_prob}\")"
   ]
  },
  {
   "cell_type": "markdown",
   "metadata": {},
   "source": [
    "### Task 4: Implementing Bayes' Theorem\n",
    "Implement Bayes' Theorem to classify emails as spam or ham."
   ]
  },
  {
   "cell_type": "code",
   "execution_count": 60,
   "metadata": {},
   "outputs": [
    {
     "data": {
      "text/plain": [
       "(0.409,\n",
       " 0.591,\n",
       " {'contains_free': 0.27383863080684595,\n",
       "  'contains_winner': 0.19315403422982885,\n",
       "  'time_of_day': {1: 0.23227383863080683,\n",
       "   2: 0.24938875305623473,\n",
       "   3: 0.2371638141809291,\n",
       "   4: 0.28117359413202936}},\n",
       " {'contains_free': 0.3197969543147208,\n",
       "  'contains_winner': 0.19120135363790186,\n",
       "  'time_of_day': {1: 0.22842639593908629,\n",
       "   2: 0.23519458544839256,\n",
       "   3: 0.26903553299492383,\n",
       "   4: 0.2673434856175973}})"
      ]
     },
     "execution_count": 60,
     "metadata": {},
     "output_type": "execute_result"
    }
   ],
   "source": [
    "# Likelihood for categorical features\n",
    "def likelihood(feature, label_value, feature_value):\n",
    "    return len(df_emails[(df_emails['label'] == label_value) & (df_emails[feature] == feature_value)]) / len(df_emails[df_emails['label'] == label_value])\n",
    "\n",
    "# Likelihoods for contains_free, contains_winner, and time_of_day given spam or not spam\n",
    "likelihoods_spam = {\n",
    "    'contains_free': likelihood('contains_free', 1, 1),\n",
    "    'contains_winner': likelihood('contains_winner', 1, 1),\n",
    "    'time_of_day': {\n",
    "        1: likelihood('time_of_day', 1, 1),\n",
    "        2: likelihood('time_of_day', 1, 2),\n",
    "        3: likelihood('time_of_day', 1, 3),\n",
    "        4: likelihood('time_of_day', 1, 4),\n",
    "    }\n",
    "}\n",
    "\n",
    "likelihoods_not_spam = {\n",
    "    'contains_free': likelihood('contains_free', 0, 1),\n",
    "    'contains_winner': likelihood('contains_winner', 0, 1),\n",
    "    'time_of_day': {\n",
    "        1: likelihood('time_of_day', 0, 1),\n",
    "        2: likelihood('time_of_day', 0, 2),\n",
    "        3: likelihood('time_of_day', 0, 3),\n",
    "        4: likelihood('time_of_day', 0, 4),\n",
    "    }\n",
    "}\n",
    "\n",
    "spam_prob, not_spam_prob, likelihoods_spam, likelihoods_not_spam"
   ]
  },
  {
   "cell_type": "code",
   "execution_count": 61,
   "metadata": {},
   "outputs": [
    {
     "name": "stdout",
     "output_type": "stream",
     "text": [
      "Email 1 classification: ('Not Spam', 0.6273131297622822)\n",
      "Email 2 classification: ('Not Spam', 0.5481313714391256)\n",
      "Email 3 classification: ('Not Spam', 0.7040175299307767)\n"
     ]
    }
   ],
   "source": [
    "from scipy.stats import norm\n",
    "\n",
    "# Gaussian likelihood for continuous variables\n",
    "def gaussian_likelihood(x, mean, std):\n",
    "    return norm.pdf(x, mean, std)\n",
    "\n",
    "def classify_email(email_features, mean_spam, std_spam, mean_not_spam, std_not_spam):\n",
    "    # Extract the features from the input email\n",
    "    email_length, contains_free, contains_winner, time_of_day = email_features\n",
    "    \n",
    "    # Calculate likelihoods for categorical features\n",
    "    likelihood_spam_contains_free = likelihood('contains_free', 1, contains_free)\n",
    "    likelihood_not_spam_contains_free = likelihood('contains_free', 0, contains_free)\n",
    "\n",
    "    likelihood_spam_contains_winner = likelihood('contains_winner', 1, contains_winner)\n",
    "    likelihood_not_spam_contains_winner = likelihood('contains_winner', 0, contains_winner)\n",
    "\n",
    "    likelihood_spam_time_of_day = likelihood('time_of_day', 1, time_of_day)\n",
    "    likelihood_not_spam_time_of_day = likelihood('time_of_day', 0, time_of_day)\n",
    "\n",
    "    # Calculate Gaussian likelihood for email_length\n",
    "    likelihood_spam_email_length = gaussian_likelihood(email_length, mean_spam, std_spam)\n",
    "    likelihood_not_spam_email_length = gaussian_likelihood(email_length, mean_not_spam, std_not_spam)\n",
    "\n",
    "    # Calculate posterior probabilities using Bayes' theorem\n",
    "    P_features_given_spam = (likelihood_spam_contains_free * likelihood_spam_contains_winner *\n",
    "                             likelihood_spam_time_of_day * likelihood_spam_email_length)\n",
    "    P_features_given_not_spam = (likelihood_not_spam_contains_free * likelihood_not_spam_contains_winner *\n",
    "                                 likelihood_not_spam_time_of_day * likelihood_not_spam_email_length)\n",
    "\n",
    "    # Calculate posterior probabilities\n",
    "    P_spam_given_features = P_features_given_spam * spam_prob\n",
    "    P_not_spam_given_features = P_features_given_not_spam * not_spam_prob\n",
    "\n",
    "    # Normalize to get final probabilities\n",
    "    total_probability = P_spam_given_features + P_not_spam_given_features\n",
    "    posterior_spam = P_spam_given_features / total_probability\n",
    "    posterior_not_spam = P_not_spam_given_features / total_probability\n",
    "\n",
    "    # Return the classification based on the higher posterior probability\n",
    "    if posterior_spam > posterior_not_spam:\n",
    "        return \"Spam\", posterior_spam\n",
    "    else:\n",
    "        return \"Not Spam\", posterior_not_spam\n",
    "    \n",
    "# Classify the three mails\n",
    "email1 = [90, 1, 1, 1]\n",
    "email2 = [140, 0, 0, 1]\n",
    "email3 = [50,1,0,3]\n",
    "\n",
    "classification_email1 = classify_email(email1, mean_spam, std_spam, mean_not_spam, std_not_spam)\n",
    "classification_email2 = classify_email(email2, mean_spam, std_spam, mean_not_spam, std_not_spam)\n",
    "classification_email3 = classify_email(email3, mean_spam, std_spam, mean_not_spam, std_not_spam)\n",
    "\n",
    "print(\"Email 1 classification:\", classification_email1)\n",
    "print(\"Email 2 classification:\", classification_email2)\n",
    "print(\"Email 3 classification:\", classification_email3)"
   ]
  },
  {
   "cell_type": "markdown",
   "metadata": {},
   "source": [
    "### Task 5: Model Testing\n",
    "Test the model on a new dataset and evaluate its performance. You can use a subset of the dataset that you created or create a new one."
   ]
  },
  {
   "cell_type": "code",
   "execution_count": 92,
   "metadata": {},
   "outputs": [
    {
     "data": {
      "text/plain": [
       "(0.5783333333333334,\n",
       " array([[317,  46],\n",
       "        [207,  30]], dtype=int64))"
      ]
     },
     "execution_count": 92,
     "metadata": {},
     "output_type": "execute_result"
    }
   ],
   "source": [
    "# Your code goes here\n",
    "from sklearn.model_selection import train_test_split\n",
    "from sklearn.naive_bayes import GaussianNB, MultinomialNB, BernoulliNB\n",
    "from sklearn.metrics import accuracy_score\n",
    "\n",
    "# Features and labels\n",
    "X = df_emails[['email_length', 'contains_free', 'contains_winner', 'time_of_day']]\n",
    "y = df_emails['label']\n",
    "\n",
    "# Split into train and test sets\n",
    "X_train, X_test, y_train, y_test = train_test_split(X, y, test_size=0.6, random_state=42)\n",
    "\n",
    "# Train the Gaussian Naive Bayes classifier\n",
    "model = GaussianNB()\n",
    "model.fit(X_train, y_train)\n",
    "\n",
    "# Predict on the test set\n",
    "y_pred = model.predict(X_test)\n",
    "\n",
    "# Evaluate performance\n",
    "accuracy = accuracy_score(y_test, y_pred)\n",
    "conf_matrix = confusion_matrix(y_test, y_pred)\n",
    "\n",
    "accuracy, conf_matrix"
   ]
  },
  {
   "cell_type": "code",
   "execution_count": 93,
   "metadata": {},
   "outputs": [
    {
     "data": {
      "text/plain": [
       "(0.6033333333333334,\n",
       " array([[362,   1],\n",
       "        [237,   0]], dtype=int64))"
      ]
     },
     "execution_count": 93,
     "metadata": {},
     "output_type": "execute_result"
    }
   ],
   "source": [
    "# Train the multinomial Naive Bayes classifier\n",
    "model = MultinomialNB()\n",
    "model.fit(X_train, y_train)\n",
    "\n",
    "# Predict on the test set\n",
    "y_pred = model.predict(X_test)\n",
    "\n",
    "# Evaluate performance\n",
    "accuracy = accuracy_score(y_test, y_pred)\n",
    "conf_matrix = confusion_matrix(y_test, y_pred)\n",
    "\n",
    "accuracy, conf_matrix"
   ]
  },
  {
   "cell_type": "code",
   "execution_count": 94,
   "metadata": {},
   "outputs": [
    {
     "data": {
      "text/plain": [
       "(0.605,\n",
       " array([[363,   0],\n",
       "        [237,   0]], dtype=int64))"
      ]
     },
     "execution_count": 94,
     "metadata": {},
     "output_type": "execute_result"
    }
   ],
   "source": [
    "# Train the Bernoulli Naive Bayes classifier\n",
    "model = BernoulliNB()\n",
    "model.fit(X_train, y_train)\n",
    "\n",
    "# Predict on the test set\n",
    "y_pred = model.predict(X_test)\n",
    "\n",
    "# Evaluate performance\n",
    "accuracy = accuracy_score(y_test, y_pred)\n",
    "conf_matrix = confusion_matrix(y_test, y_pred)\n",
    "\n",
    "accuracy, conf_matrix"
   ]
  },
  {
   "cell_type": "markdown",
   "metadata": {},
   "source": [
    "### Task 6: Discussion\n",
    "1. Which probability distribution would you choose for an email classifier? Explain your answer.\n",
    "2. Discuss how Bayesian updating improves the accuracy of the classifier.\n",
    "3. What are the limitations of the model built in this lab?\n"
   ]
  },
  {
   "cell_type": "markdown",
   "metadata": {},
   "source": [
    "### 1) From the results above, the Gaussian naive Bayesian model is preferred as it requires lesser training set and less complex so it is easier to implement for spam filtering, it works well for text classification as it is good at handling categorical data and high dimensional data that have irrelevant features, as it considers all of them independent from each others"
   ]
  },
  {
   "cell_type": "markdown",
   "metadata": {},
   "source": [
    "### 2) Bayesian updating uses the prior knowledge of which emails the user has flagged them as spam based on the usage of specific words in a message, length, and time of delivery to decide if the new email is spam, then the system will continue to update on its belief as more emails were flagged as spam because of other words that can be seen as suspious, as user receives more email, the accuracy will gets better as it learns more words for detecting spams"
   ]
  },
  {
   "cell_type": "markdown",
   "metadata": {},
   "source": [
    "### 3) The limitations include conditional independence of features are not always held, highly dependent on quality of data, and zero probability issue when encountering words in the email that are not present in the training set, "
   ]
  },
  {
   "cell_type": "markdown",
   "metadata": {},
   "source": [
    "## Submission\n",
    "Submit a link to your completed Jupyter Notebook file hosted on your private GitHub repository through the submission link in Blackboard."
   ]
  }
 ],
 "metadata": {
  "kernelspec": {
   "display_name": "Python 3 (ipykernel)",
   "language": "python",
   "name": "python3"
  },
  "language_info": {
   "codemirror_mode": {
    "name": "ipython",
    "version": 3
   },
   "file_extension": ".py",
   "mimetype": "text/x-python",
   "name": "python",
   "nbconvert_exporter": "python",
   "pygments_lexer": "ipython3",
   "version": "3.11.5"
  }
 },
 "nbformat": 4,
 "nbformat_minor": 2
}
